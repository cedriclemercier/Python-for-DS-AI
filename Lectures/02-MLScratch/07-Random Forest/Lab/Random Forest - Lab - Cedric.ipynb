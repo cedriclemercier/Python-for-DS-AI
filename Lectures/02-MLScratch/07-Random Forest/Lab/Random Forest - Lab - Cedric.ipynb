{
 "cells": [
  {
   "cell_type": "markdown",
   "metadata": {},
   "source": [
    "Modify the Bagging scratch code in our lecture such that:\n",
    "- Calculate for oob evaluation for each bootstrapped dataset, and also the average score\n",
    "- Change the code to \"without replacement\"\n",
    "- Put everything into a class <code>Bagging</code>.  It should have at least two methods, <code>fit(X_train, y_train)</code>, and <code>predict(X_test)</code>\n",
    "- Modify the code from above to randomize features.  Set the number of features to be used in each tree to be <code>sqrt(n)</code>, and then select a subset of features for each tree.  This can be easily done by setting our DecisionTreeClassifier <code>max_features</code> to 'sqrt'"
   ]
  },
  {
   "cell_type": "code",
   "execution_count": 1,
   "metadata": {},
   "outputs": [],
   "source": [
    "import numpy as np\n",
    "import matplotlib.pyplot as plt"
   ]
  },
  {
   "cell_type": "code",
   "execution_count": 95,
   "metadata": {},
   "outputs": [],
   "source": [
    "from sklearn.datasets import load_iris\n",
    "from sklearn.model_selection import train_test_split\n",
    "from sklearn.metrics import classification_report, accuracy_score\n",
    "\n",
    "\n",
    "iris = load_iris()\n",
    "X = iris.data\n",
    "y = iris.target\n",
    "\n",
    "X_train, X_test, y_train, y_test = train_test_split(X, y, \n",
    "                test_size=0.3, shuffle=True, random_state=42)"
   ]
  },
  {
   "cell_type": "code",
   "execution_count": 162,
   "metadata": {},
   "outputs": [],
   "source": [
    "class Bagging:\n",
    "    \n",
    "    def __init__(self, boostrap_ratio, without_replacement = True, B = 5):\n",
    "        self.B = B\n",
    "        self.boostrap_ratio = boostrap_ratio\n",
    "        self.without_replacement = without_replacement\n",
    "        self.tree_params = {'max_depth': 2, 'criterion':'gini', 'min_samples_split': 5}\n",
    "        self.models = [DecisionTreeClassifier(**self.tree_params) for _ in range(B)]\n",
    "    \n",
    "    def fit(self, X_train, y_train):\n",
    "        m, n = X_train.shape\n",
    "\n",
    "        #sample size for each tree\n",
    "        sample_size = int(self.boostrap_ratio * len(X_train))\n",
    "\n",
    "        xsamples = np.zeros((B, sample_size, n))\n",
    "        ysamples = np.zeros((B, sample_size))\n",
    "    \n",
    "        \n",
    "        xoob = []\n",
    "        yoob = []\n",
    "\n",
    "        #subsamples for each model\n",
    "        for i in range(self.B):\n",
    "            idxes = []\n",
    "            oob_idxes = []\n",
    "            ##sampling with replacement; i.e., sample can occur more than once\n",
    "            #for the same predictor\n",
    "            for j in range(sample_size):\n",
    "                idx = random.randrange(m)   #<----with replacement #change so no repetition\n",
    "                \n",
    "                # If there is replacement create indices of oob for future\n",
    "                if (self.without_replacement):\n",
    "                    # If idx is already in oob_idxs, redo\n",
    "                    while idx in oob_idxes:\n",
    "                        idx = random.randrange(m)\n",
    "                idxes.append(idx)\n",
    "                oob_idxes.append(idx)\n",
    "                xsamples[i, j, :] = X_train[idx]\n",
    "                ysamples[i, j] = y_train[idx]\n",
    "                    #keep track of idx that i did not use for ith tree\n",
    "                \n",
    "            # if bootstrap is less than 0, we don't take the whole X\n",
    "            # Here I create an array the size of X with False values\n",
    "            mask = np.zeros((m), dtype=bool)\n",
    "            # oob_idx will not have all X's m values, so we are creating a mask that will select indices we have\n",
    "            mask[oob_idxes] = True # mask = [True, False, False, True ... etc]\n",
    "            # Here flip the incides\n",
    "            x_mask = X_train[~mask]\n",
    "            y_mask = y_train[~mask]\n",
    "            xoob.append(x_mask)\n",
    "            yoob.append(y_mask)\n",
    "            \n",
    "\n",
    "        #fitting each estimator\n",
    "        oob_score = 0\n",
    "        total_score = 0\n",
    "        for i, model in enumerate(self.models):\n",
    "            _X = xsamples[i, :]\n",
    "            _y = ysamples[i, :]\n",
    "            model.fit(_X, _y)\n",
    "            \n",
    "            # calculating oob score here\n",
    "            # oob can now be used as a validation set! Because the model didn't see it\n",
    "            _X_test = np.asarray(xoob[i])\n",
    "            _y_test = np.asarray(yoob[i])\n",
    "            _yhat = model.predict(_X_test)\n",
    "            acc_score = accuracy_score(_y_test, _yhat)\n",
    "            total_score += acc_score\n",
    "            print(f\"Accuracy score in three {i}: {acc_score}\")\n",
    "        # calculate total oob score! finally!!\n",
    "        total_oob_score = total_score / len(models)\n",
    "        print(f\"Total oob score is: {total_oob_score}\")\n",
    "    \n",
    "    def predict(self, X_test):\n",
    "        #make prediction and return the probabilities\n",
    "        predictions = np.zeros((self.B, X_test.shape[0]))\n",
    "        for i, model in enumerate(self.models):\n",
    "            yhat = model.predict(X_test)\n",
    "            predictions[i, :] = yhat\n",
    "\n",
    "        yhat = stats.mode(predictions)[0][0]\n",
    "        return yhat"
   ]
  },
  {
   "cell_type": "code",
   "execution_count": 165,
   "metadata": {},
   "outputs": [
    {
     "name": "stdout",
     "output_type": "stream",
     "text": [
      "Accuracy score in three 0: 0.9375\n",
      "Accuracy score in three 1: 0.84375\n",
      "Accuracy score in three 2: 0.9375\n",
      "Accuracy score in three 3: 0.75\n",
      "Accuracy score in three 4: 0.96875\n",
      "Total oob score is: 0.8875\n"
     ]
    }
   ],
   "source": [
    "model = Bagging(boostrap_ratio = 0.7, without_replacement=True, B = 5)\n",
    "\n",
    "model.fit(X_train, y_train)\n",
    "yhat = model.predict(X_test)"
   ]
  },
  {
   "cell_type": "code",
   "execution_count": 166,
   "metadata": {},
   "outputs": [
    {
     "name": "stdout",
     "output_type": "stream",
     "text": [
      "              precision    recall  f1-score   support\n",
      "\n",
      "           0       1.00      1.00      1.00        19\n",
      "           1       1.00      1.00      1.00        13\n",
      "           2       1.00      1.00      1.00        13\n",
      "\n",
      "    accuracy                           1.00        45\n",
      "   macro avg       1.00      1.00      1.00        45\n",
      "weighted avg       1.00      1.00      1.00        45\n",
      "\n"
     ]
    }
   ],
   "source": [
    "print(classification_report(y_test, yhat))"
   ]
  },
  {
   "cell_type": "code",
   "execution_count": 85,
   "metadata": {},
   "outputs": [
    {
     "name": "stdout",
     "output_type": "stream",
     "text": [
      "[-2 -3 -4 -5 -6]\n"
     ]
    }
   ],
   "source": [
    "# Test\n",
    "aaa = np.array([1,2,3,4,5])\n",
    "bbb = np.array([1,2,3,4,5])\n",
    "print(~aaa)"
   ]
  },
  {
   "cell_type": "code",
   "execution_count": 97,
   "metadata": {},
   "outputs": [
    {
     "name": "stdout",
     "output_type": "stream",
     "text": [
      "(32, 4)\n"
     ]
    }
   ],
   "source": [
    "oob_idx = [96, 67, 0, 91, 38, 26, 93, 48, 32, 6, 40, 14, 63, 78, 12, 36, 94, 4, 56, 53, 5, 41, 51, 72, 44, 19, 46, 34, 33, 43, 74, 92, 61, 85, 57, 22, 2, 30, 24, 82, 65, 70, 27, 95, 97, 76, 29, 39, 83, 80, 18, 73, 101, 103, 13, 47, 54, 3, 64, 99, 20, 81, 69, 7, 23, 89, 37, 98, 59, 45, 77, 11, 35]\n",
    "\n",
    "mask = np.zeros((m), dtype=bool)\n",
    "mask[oob_idx] = True\n",
    "xxx = X_train[~mask]\n",
    "\n",
    "print(xxx.shape)"
   ]
  },
  {
   "cell_type": "code",
   "execution_count": null,
   "metadata": {},
   "outputs": [],
   "source": []
  }
 ],
 "metadata": {
  "kernelspec": {
   "display_name": "Python 3 (ipykernel)",
   "language": "python",
   "name": "python3"
  },
  "language_info": {
   "codemirror_mode": {
    "name": "ipython",
    "version": 3
   },
   "file_extension": ".py",
   "mimetype": "text/x-python",
   "name": "python",
   "nbconvert_exporter": "python",
   "pygments_lexer": "ipython3",
   "version": "3.9.2"
  }
 },
 "nbformat": 4,
 "nbformat_minor": 4
}

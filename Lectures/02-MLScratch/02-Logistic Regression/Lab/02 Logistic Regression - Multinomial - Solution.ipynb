{
 "cells": [
  {
   "cell_type": "markdown",
   "metadata": {},
   "source": [
    "### === Task ===\n",
    "\n",
    "1. With the iris data given in class, implement train_test_split from scratch.\n",
    "\n",
    "2. Put everything into a class called LogisticRegression, this class should allow you choose any of the training methods you'd like including \"batch\", \"minibatch\" and \"sto\". However, if the input method is not one of the three, it should \"raise ValueError\".\n",
    "\n",
    "3. Calculate time taken to fit your models using different training methods.\n",
    "\n",
    "4. Perform a classification on the dataset using all 3 methods and also show what happens if your defined training method is not either \"batch\", \"minibatch\" or \"sto\". Make sure to plot the training losses.\n",
    "\n",
    "5. Simply, use classification_report from sklearn.metrics to evaluate your models.\n",
    "\n",
    "6. Discuss your results ie. training losses of the three methods and time taken to fit models."
   ]
  },
  {
   "cell_type": "code",
   "execution_count": 1,
   "metadata": {},
   "outputs": [],
   "source": [
    "import numpy as np\n",
    "import matplotlib.pyplot as plt\n",
    "from sklearn import datasets\n",
    "from sklearn.preprocessing import StandardScaler\n",
    "import numpy as np\n",
    "import matplotlib.pyplot as plt\n",
    "from sklearn.metrics import classification_report\n",
    "import time\n",
    "\n",
    "#Step 1: Prepare data\n",
    "\n",
    "# import some data to play with\n",
    "iris = datasets.load_iris()\n",
    "X = iris.data[:, 2:]  # we only take the first two features.\n",
    "y = iris.target  #now our y is three classes thus require multinomial\n",
    "\n",
    "# feature scaling helps improve reach convergence faster\n",
    "scaler = StandardScaler()\n",
    "X = scaler.fit_transform(X)"
   ]
  },
  {
   "cell_type": "code",
   "execution_count": 2,
   "metadata": {},
   "outputs": [],
   "source": [
    "# Split data into training and test datasets\n",
    "idx = np.arange(0,len(X),1)\n",
    "np.random.shuffle(idx)\n",
    "idx_train = idx[0:int(.7*len(X))]\n",
    "idx_test = idx[len(idx_train):len(idx)]\n",
    "\n",
    "X_train = X[idx_train]\n",
    "X_test = X[idx_test]\n",
    "y_train = y[idx_train]\n",
    "y_test = y[idx_test]"
   ]
  },
  {
   "cell_type": "code",
   "execution_count": 3,
   "metadata": {},
   "outputs": [],
   "source": [
    "# add intercept to our X\n",
    "intercept = np.ones((X_train.shape[0], 1))\n",
    "X_train   = np.concatenate((intercept, X_train), axis=1)  #add intercept\n",
    "intercept = np.ones((X_test.shape[0], 1))\n",
    "X_test    = np.concatenate((intercept, X_test), axis=1)  #add intercept\n",
    "\n",
    "# make sure our y is in the shape of (m, k)\n",
    "# we will convert our output vector in \n",
    "# matrix where no. of columns is equal to the no. of classes. \n",
    "# The values in the matrix will be 0 or 1. For instance the rows \n",
    "# where we have output 2 the column 2 will contain 1 and the rest are all 0.\n",
    "# in simple words, y will be of shape (m, k)\n",
    "k = len(set(y))  # no. of class  (can also use np.unique)\n",
    "m = X_train.shape[0]  # no.of samples\n",
    "n = X_train.shape[1]  # no. of features\n",
    "Y_train_encoded = np.zeros((m, k))\n",
    "for each_class in range(k):\n",
    "    cond = y_train==each_class\n",
    "    Y_train_encoded[np.where(cond), each_class] = 1"
   ]
  },
  {
   "cell_type": "code",
   "execution_count": 4,
   "metadata": {},
   "outputs": [
    {
     "data": {
      "image/png": "[encoded data removed]",
      "text/plain": [
       "<Figure size 432x432 with 1 Axes>"
      ]
     },
     "metadata": {
      "needs_background": "light"
     },
     "output_type": "display_data"
    }
   ],
   "source": [
    "# Step 1.1 (optional): Visualize our data\n",
    "\n",
    "# your code here\n",
    "plt.figure(figsize=(6,6))\n",
    "plt.scatter(X[:, 0], X[:, 1], label='class 0', c=y)\n",
    "plt.show()"
   ]
  },
  {
   "cell_type": "code",
   "execution_count": 5,
   "metadata": {},
   "outputs": [],
   "source": [
    "# Step 2: Fit your data\n",
    "\n",
    "\n",
    "class LogisticRegression:\n",
    "    \n",
    "    def __init__(self, k, n, method, alpha = 0.001, max_iter=10000):\n",
    "        self.k = k\n",
    "        self.n = n\n",
    "        self.alpha = alpha\n",
    "        self.max_iter = max_iter\n",
    "        self.method = method\n",
    "    \n",
    "    def fit(self, X, Y):\n",
    "        self.W = np.random.rand(self.n, self.k)\n",
    "        self.losses = []\n",
    "        \n",
    "        if self.method == \"batch\":\n",
    "            start_time = time.time()\n",
    "            for i in range(self.max_iter):\n",
    "                loss, grad =  self.gradient(X, Y)\n",
    "                self.losses.append(loss)\n",
    "                self.W = self.W - self.alpha * grad\n",
    "                if i % 500 == 0:\n",
    "                    print(f\"Loss at iteration {i}\", loss)\n",
    "            print(f\"time taken: {time.time() - start_time}\")\n",
    "            \n",
    "        elif self.method == \"minibatch\":\n",
    "            start_time = time.time()\n",
    "            batch_size = int(0.3 * X.shape[0])\n",
    "            for i in range(self.max_iter):\n",
    "                ix = np.random.randint(0, X.shape[0]) #<----with replacement\n",
    "                batch_X = X[ix:ix+batch_size]\n",
    "                batch_Y = Y[ix:ix+batch_size]\n",
    "                loss, grad = self.gradient(batch_X, batch_Y)\n",
    "                self.losses.append(loss)\n",
    "                self.W = self.W - self.alpha * grad\n",
    "                if i % 500 == 0:\n",
    "                    print(f\"Loss at iteration {i}\", loss)\n",
    "            print(f\"time taken: {time.time() - start_time}\")\n",
    "            \n",
    "        elif self.method == \"sto\":\n",
    "            start_time = time.time()\n",
    "            for i in range(self.max_iter):\n",
    "                list_of_used_ix = []\n",
    "                idx = np.random.randint(X.shape[0])\n",
    "                while i in list_of_used_ix:\n",
    "                    idx = np.random.randint(X.shape[0])\n",
    "                X_train = X[idx, :].reshape(1, -1)\n",
    "                Y_train = Y[idx]\n",
    "                loss, grad = self.gradient(X_train, Y_train)\n",
    "                self.losses.append(loss)\n",
    "                self.W = self.W - self.alpha * grad\n",
    "                \n",
    "                list_of_used_ix.append(i)\n",
    "                if len(list_of_used_ix) == X.shape[0]:\n",
    "                    list_of_used_ix = []\n",
    "                if i % 500 == 0:\n",
    "                    print(f\"Loss at iteration {i}\", loss)\n",
    "            print(f\"time taken: {time.time() - start_time}\")\n",
    "            \n",
    "        else:\n",
    "            raise ValueError('Method must be one of the followings: \"batch\", \"minibatch\" or \"sto\".')\n",
    "        \n",
    "        \n",
    "    def gradient(self, X, Y):\n",
    "        m = X.shape[0]\n",
    "        h = self.h_theta(X, self.W)\n",
    "        loss = - np.sum(Y*np.log(h)) / m\n",
    "        error = h - Y\n",
    "        grad = self.softmax_grad(X, error)\n",
    "        return loss, grad\n",
    "\n",
    "    def softmax(self, theta_t_x):\n",
    "        return np.exp(theta_t_x) / np.sum(np.exp(theta_t_x), axis=1, keepdims=True)\n",
    "\n",
    "    def softmax_grad(self, X, error):\n",
    "        return  X.T @ error\n",
    "\n",
    "    def h_theta(self, X, W):\n",
    "        '''\n",
    "        Input:\n",
    "            X shape: (m, n)\n",
    "            w shape: (n, k)\n",
    "        Returns:\n",
    "            yhat shape: (m, k)\n",
    "        '''\n",
    "        return self.softmax(X @ W)\n",
    "    \n",
    "    def predict(self, X_test):\n",
    "        return np.argmax(self.h_theta(X_test, self.W), axis=1)\n",
    "    \n",
    "    def plot(self):\n",
    "        plt.plot(np.arange(len(self.losses)) , self.losses, label = \"Train Losses\")\n",
    "        plt.title(\"Losses\")\n",
    "        plt.xlabel(\"epoch\")\n",
    "        plt.ylabel(\"losses\")\n",
    "        plt.legend()"
   ]
  },
  {
   "cell_type": "code",
   "execution_count": 6,
   "metadata": {},
   "outputs": [
    {
     "name": "stdout",
     "output_type": "stream",
     "text": [
      "Loss at iteration 0 1.3821321222636598\n",
      "Loss at iteration 500 0.17318858915336408\n",
      "Loss at iteration 1000 0.1295046711641689\n",
      "Loss at iteration 1500 0.11240159042866435\n",
      "Loss at iteration 2000 0.1031556898850829\n",
      "Loss at iteration 2500 0.09733004916838588\n",
      "Loss at iteration 3000 0.09331194224452573\n",
      "Loss at iteration 3500 0.09036908767299655\n",
      "Loss at iteration 4000 0.08811932553731054\n",
      "Loss at iteration 4500 0.08634311355487065\n",
      "Loss at iteration 5000 0.08490511249147033\n",
      "Loss at iteration 5500 0.08371724938428927\n",
      "Loss at iteration 6000 0.08271969460003618\n",
      "Loss at iteration 6500 0.08187035830560195\n",
      "Loss at iteration 7000 0.0811387572281872\n",
      "Loss at iteration 7500 0.08050226475846876\n",
      "Loss at iteration 8000 0.07994372822011103\n",
      "Loss at iteration 8500 0.07944990445794575\n",
      "Loss at iteration 9000 0.07901040332845152\n",
      "Loss at iteration 9500 0.07861695646278129\n",
      "time taken: 0.40612220764160156\n",
      "=========Classification report=======\n",
      "Report:                precision    recall  f1-score   support\n",
      "\n",
      "           0       1.00      1.00      1.00        17\n",
      "           1       1.00      0.93      0.97        15\n",
      "           2       0.93      1.00      0.96        13\n",
      "\n",
      "    accuracy                           0.98        45\n",
      "   macro avg       0.98      0.98      0.98        45\n",
      "weighted avg       0.98      0.98      0.98        45\n",
      "\n"
     ]
    },
    {
     "data": {
      "image/png": "[encoded data removed]",
      "text/plain": [
       "<Figure size 432x288 with 1 Axes>"
      ]
     },
     "metadata": {
      "needs_background": "light"
     },
     "output_type": "display_data"
    }
   ],
   "source": [
    "model = LogisticRegression(k, X_train.shape[1], \"batch\")\n",
    "model.fit(X_train, Y_train_encoded)\n",
    "yhat = model.predict(X_test)\n",
    "model.plot()\n",
    "print(\"=========Classification report=======\")\n",
    "print(\"Report: \", classification_report(y_test, yhat))"
   ]
  },
  {
   "cell_type": "code",
   "execution_count": 7,
   "metadata": {},
   "outputs": [
    {
     "name": "stdout",
     "output_type": "stream",
     "text": [
      "Loss at iteration 0 1.3883419605351364\n",
      "Loss at iteration 500 0.3335066615559231\n",
      "Loss at iteration 1000 0.2849348182303069\n",
      "Loss at iteration 1500 0.21720594540200533\n",
      "Loss at iteration 2000 0.19218946515507807\n",
      "Loss at iteration 2500 0.1619261767160875\n",
      "Loss at iteration 3000 0.07528230552442572\n",
      "Loss at iteration 3500 0.1587445079990083\n",
      "Loss at iteration 4000 0.148790419871473\n",
      "Loss at iteration 4500 0.07371117710825371\n",
      "Loss at iteration 5000 0.18256981253388826\n",
      "Loss at iteration 5500 0.05367987555646089\n",
      "Loss at iteration 6000 0.05385939303246064\n",
      "Loss at iteration 6500 0.05747289725036087\n",
      "Loss at iteration 7000 0.1304861810306332\n",
      "Loss at iteration 7500 0.07132314996053803\n",
      "Loss at iteration 8000 0.04124130593015748\n",
      "Loss at iteration 8500 0.1587959442161288\n",
      "Loss at iteration 9000 0.061608156149285206\n",
      "Loss at iteration 9500 0.14422642738570873\n",
      "time taken: 0.41231489181518555\n",
      "=========Classification report=======\n",
      "Report:                precision    recall  f1-score   support\n",
      "\n",
      "           0       1.00      1.00      1.00        17\n",
      "           1       0.93      0.93      0.93        15\n",
      "           2       0.92      0.92      0.92        13\n",
      "\n",
      "    accuracy                           0.96        45\n",
      "   macro avg       0.95      0.95      0.95        45\n",
      "weighted avg       0.96      0.96      0.96        45\n",
      "\n"
     ]
    },
    {
     "data": {
      "image/png": "[encoded data removed]",
      "text/plain": [
       "<Figure size 432x288 with 1 Axes>"
      ]
     },
     "metadata": {
      "needs_background": "light"
     },
     "output_type": "display_data"
    }
   ],
   "source": [
    "model = LogisticRegression(k, X_train.shape[1], \"minibatch\")\n",
    "model.fit(X_train, Y_train_encoded)\n",
    "yhat = model.predict(X_test)\n",
    "model.plot()\n",
    "print(\"=========Classification report=======\")\n",
    "print(\"Report: \", classification_report(y_test, yhat))"
   ]
  },
  {
   "cell_type": "code",
   "execution_count": 8,
   "metadata": {},
   "outputs": [
    {
     "name": "stdout",
     "output_type": "stream",
     "text": [
      "Loss at iteration 0 1.566540623157731\n",
      "Loss at iteration 500 1.2821526367340426\n",
      "Loss at iteration 1000 0.6336386388061732\n",
      "Loss at iteration 1500 1.1105279533359913\n",
      "Loss at iteration 2000 0.3637593408561244\n",
      "Loss at iteration 2500 0.5541821581017938\n",
      "Loss at iteration 3000 0.3264002629255294\n",
      "Loss at iteration 3500 0.36896187851830764\n",
      "Loss at iteration 4000 0.19311303584364622\n",
      "Loss at iteration 4500 0.8586029020820709\n",
      "Loss at iteration 5000 0.9949349149568828\n",
      "Loss at iteration 5500 0.14415614768243337\n",
      "Loss at iteration 6000 0.13727226878677848\n",
      "Loss at iteration 6500 0.34131895746715385\n",
      "Loss at iteration 7000 0.20525727532919763\n",
      "Loss at iteration 7500 0.11006739070152333\n",
      "Loss at iteration 8000 0.14534805984224086\n",
      "Loss at iteration 8500 0.21780170124321407\n",
      "Loss at iteration 9000 0.7521888192330913\n",
      "Loss at iteration 9500 0.3367539836352303\n",
      "time taken: 0.42243289947509766\n",
      "=========Classification report=======\n",
      "Report:                precision    recall  f1-score   support\n",
      "\n",
      "           0       1.00      1.00      1.00        17\n",
      "           1       1.00      0.87      0.93        15\n",
      "           2       0.87      1.00      0.93        13\n",
      "\n",
      "    accuracy                           0.96        45\n",
      "   macro avg       0.96      0.96      0.95        45\n",
      "weighted avg       0.96      0.96      0.96        45\n",
      "\n"
     ]
    },
    {
     "data": {
      "image/png": "[encoded data removed]",
      "text/plain": [
       "<Figure size 432x288 with 1 Axes>"
      ]
     },
     "metadata": {
      "needs_background": "light"
     },
     "output_type": "display_data"
    }
   ],
   "source": [
    "model = LogisticRegression(k, X_train.shape[1], \"sto\")\n",
    "model.fit(X_train, Y_train_encoded)\n",
    "yhat = model.predict(X_test)\n",
    "model.plot()\n",
    "print(\"=========Classification report=======\")\n",
    "print(\"Report: \", classification_report(y_test, yhat))"
   ]
  },
  {
   "cell_type": "code",
   "execution_count": 9,
   "metadata": {},
   "outputs": [
    {
     "ename": "ValueError",
     "evalue": "Method must be one of the followings: \"batch\", \"minibatch\" or \"sto\".",
     "output_type": "error",
     "traceback": [
      "\u001b[0;31m---------------------------------------------------------------------------\u001b[0m",
      "\u001b[0;31mValueError\u001b[0m                                Traceback (most recent call last)",
      "\u001b[0;32m<ipython-input-9-f25748c8303a>\u001b[0m in \u001b[0;36m<module>\u001b[0;34m\u001b[0m\n\u001b[1;32m      1\u001b[0m \u001b[0mmodel\u001b[0m \u001b[0;34m=\u001b[0m \u001b[0mLogisticRegression\u001b[0m\u001b[0;34m(\u001b[0m\u001b[0mk\u001b[0m\u001b[0;34m,\u001b[0m \u001b[0mX_train\u001b[0m\u001b[0;34m.\u001b[0m\u001b[0mshape\u001b[0m\u001b[0;34m[\u001b[0m\u001b[0;36m1\u001b[0m\u001b[0;34m]\u001b[0m\u001b[0;34m,\u001b[0m \u001b[0;34m\"Chaky is so handsome\"\u001b[0m\u001b[0;34m)\u001b[0m\u001b[0;34m\u001b[0m\u001b[0;34m\u001b[0m\u001b[0m\n\u001b[0;32m----> 2\u001b[0;31m \u001b[0mmodel\u001b[0m\u001b[0;34m.\u001b[0m\u001b[0mfit\u001b[0m\u001b[0;34m(\u001b[0m\u001b[0mX_train\u001b[0m\u001b[0;34m,\u001b[0m \u001b[0mY_train_encoded\u001b[0m\u001b[0;34m)\u001b[0m\u001b[0;34m\u001b[0m\u001b[0;34m\u001b[0m\u001b[0m\n\u001b[0m\u001b[1;32m      3\u001b[0m \u001b[0myhat\u001b[0m \u001b[0;34m=\u001b[0m \u001b[0mmodel\u001b[0m\u001b[0;34m.\u001b[0m\u001b[0mpredict\u001b[0m\u001b[0;34m(\u001b[0m\u001b[0mX_test\u001b[0m\u001b[0;34m)\u001b[0m\u001b[0;34m\u001b[0m\u001b[0;34m\u001b[0m\u001b[0m\n\u001b[1;32m      4\u001b[0m \u001b[0mmodel\u001b[0m\u001b[0;34m.\u001b[0m\u001b[0mplot\u001b[0m\u001b[0;34m(\u001b[0m\u001b[0;34m)\u001b[0m\u001b[0;34m\u001b[0m\u001b[0;34m\u001b[0m\u001b[0m\n",
      "\u001b[0;32m<ipython-input-5-82f585c4d0fd>\u001b[0m in \u001b[0;36mfit\u001b[0;34m(self, X, Y)\u001b[0m\n\u001b[1;32m     60\u001b[0m \u001b[0;34m\u001b[0m\u001b[0m\n\u001b[1;32m     61\u001b[0m         \u001b[0;32melse\u001b[0m\u001b[0;34m:\u001b[0m\u001b[0;34m\u001b[0m\u001b[0;34m\u001b[0m\u001b[0m\n\u001b[0;32m---> 62\u001b[0;31m             \u001b[0;32mraise\u001b[0m \u001b[0mValueError\u001b[0m\u001b[0;34m(\u001b[0m\u001b[0;34m'Method must be one of the followings: \"batch\", \"minibatch\" or \"sto\".'\u001b[0m\u001b[0;34m)\u001b[0m\u001b[0;34m\u001b[0m\u001b[0;34m\u001b[0m\u001b[0m\n\u001b[0m\u001b[1;32m     63\u001b[0m \u001b[0;34m\u001b[0m\u001b[0m\n\u001b[1;32m     64\u001b[0m \u001b[0;34m\u001b[0m\u001b[0m\n",
      "\u001b[0;31mValueError\u001b[0m: Method must be one of the followings: \"batch\", \"minibatch\" or \"sto\"."
     ]
    }
   ],
   "source": [
    "model = LogisticRegression(k, X_train.shape[1], \"Chaky is so handsome\")\n",
    "model.fit(X_train, Y_train_encoded)\n",
    "yhat = model.predict(X_test)\n",
    "model.plot()"
   ]
  }
 ],
 "metadata": {
  "kernelspec": {
   "display_name": "Python 3",
   "language": "python",
   "name": "python3"
  },
  "language_info": {
   "codemirror_mode": {
    "name": "ipython",
    "version": 3
   },
   "file_extension": ".py",
   "mimetype": "text/x-python",
   "name": "python",
   "nbconvert_exporter": "python",
   "pygments_lexer": "ipython3",
   "version": "3.8.6"
  }
 },
 "nbformat": 4,
 "nbformat_minor": 4
}

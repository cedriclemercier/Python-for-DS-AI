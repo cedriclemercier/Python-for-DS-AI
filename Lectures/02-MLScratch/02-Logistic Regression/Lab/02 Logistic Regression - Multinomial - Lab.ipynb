{
 "cells": [
  {
   "cell_type": "markdown",
   "id": "simple-donor",
   "metadata": {},
   "source": [
    "### === Task ===\n",
    "\n",
    "1. With the iris data given in class, implement train_test_split from scratch.\n",
    "\n",
    "2. Put everything into a class called LogisticRegression, this class should allow you choose any of the training methods you'd like including \"batch\", \"minibatch\" and \"sto\". However, if the input method is not one of the three, it should \"raise ValueError\".\n",
    "\n",
    "3. Calculate time taken to fit your models using different training methods.\n",
    "\n",
    "4. Perform a classification on the dataset using all 3 methods and also show what happens if your defined training method is not either \"batch\", \"minibatch\" or \"sto\". Make sure to plot the training losses.\n",
    "\n",
    "5. Simply, use classification_report from sklearn.metrics to evaluate your models.\n",
    "\n",
    "6. Discuss your results ie. training losses of the three methods and time taken to fit models."
   ]
  },
  {
   "cell_type": "code",
   "execution_count": 1,
   "id": "2dae9c31",
   "metadata": {},
   "outputs": [],
   "source": [
    "import numpy as np\n",
    "import time\n",
    "import matplotlib.pyplot as plt\n",
    "from sklearn.model_selection import train_test_split\n",
    "from sklearn.preprocessing import StandardScaler\n",
    "from sklearn import datasets\n",
    "from sklearn.metrics import classification_report"
   ]
  },
  {
   "cell_type": "code",
   "execution_count": 2,
   "id": "550deae3",
   "metadata": {},
   "outputs": [],
   "source": [
    "iris = datasets.load_iris()\n",
    "X = iris.data[:, 2:]\n",
    "y = iris.target\n",
    "\n",
    "# feature scaling helps improve reach convergence faster\n",
    "scaler = StandardScaler()\n",
    "X = scaler.fit_transform(X)\n",
    "\n",
    "# data split\n",
    "X_train, X_test, y_train, y_test = train_test_split(X, y, test_size=0.3)\n",
    "\n",
    "\n",
    "# add intercept to our X\n",
    "intercept = np.ones((X_train.shape[0], 1))\n",
    "X_train   = np.concatenate((intercept, X_train), axis=1)  #add intercept\n",
    "intercept = np.ones((X_test.shape[0], 1))\n",
    "X_test    = np.concatenate((intercept, X_test), axis=1)  #add intercept"
   ]
  },
  {
   "cell_type": "code",
   "execution_count": 3,
   "id": "ddd6b5ed",
   "metadata": {},
   "outputs": [],
   "source": [
    "# make sure our y is in the shape of (m, k)\n",
    "# we will convert our output vector in \n",
    "# matrix where no. of columns is equal to the no. of classes. \n",
    "# The values in the matrix will be 0 or 1. For instance the rows \n",
    "# where we have output 2 the column 2 will contain 1 and the rest are all 0.\n",
    "# in simple words, y will be of shape (m, k)\n",
    "k = len(set(y))  # no. of class  (can also use np.unique)\n",
    "m = X_train.shape[0]  # no.of samples\n",
    "n = X_train.shape[1]  # no. of features\n",
    "Y_train_encoded = np.zeros((m, k))\n",
    "for each_class in range(k):\n",
    "    cond = y_train==each_class\n",
    "    Y_train_encoded[np.where(cond), each_class] = 1"
   ]
  },
  {
   "cell_type": "code",
   "execution_count": 4,
   "id": "3e806deb",
   "metadata": {},
   "outputs": [],
   "source": [
    "class LogisticRegression():\n",
    "    \n",
    "    def __init__(self, k, n, method=\"batch\", alpha=0.001, max_iter=10000):\n",
    "        self.k = k\n",
    "        self.n = n\n",
    "        self.method = method\n",
    "        self.alpha = alpha\n",
    "        self.max_iter = max_iter\n",
    "    \n",
    "    def fit(self, X, Y):\n",
    "        self.W = np.random.rand(self.n, self.k)\n",
    "        self.losses = []\n",
    "        \n",
    "        if self.method == \"batch\":\n",
    "            start_time = time.time()\n",
    "            for i in range(self.max_iter):\n",
    "                cost, grad =  self.gradient(X, Y, self.W)\n",
    "                self.losses.append(cost)\n",
    "                if i % 500 == 0:\n",
    "                    print(f\"Cost at iteration {i}\", cost)\n",
    "                self.W = self.W - self.alpha * grad\n",
    "            print(f\"Method {self.method} took: {time.time() - start_time} seconds\")\n",
    "        \n",
    "        elif self.method == \"minibatch\":\n",
    "            batch_size = 10\n",
    "            ix = np.random.randint(0, X.shape[0])\n",
    "            start_time = time.time()\n",
    "            for i in range(self.max_iter):\n",
    "                X_mini = X[ix:ix+batch_size]\n",
    "                Y_mini = Y[ix:ix+batch_size]\n",
    "                cost, grad = self.gradient(X_mini, Y_mini, self.W)\n",
    "                self.losses.append(cost)\n",
    "                if i % 500 == 0:\n",
    "                    print(f\"Cost at iteration {i}\", cost)\n",
    "                self.W = self.W - self.alpha * grad\n",
    "            print(f\"Method {self.method} took: {time.time() - start_time} seconds\")\n",
    "        \n",
    "        elif self.method == \"sto\":\n",
    "            start_time = time.time()\n",
    "            for i in range(self.max_iter):\n",
    "                used_ix = []\n",
    "                ix = np.random.randint(X.shape[0])\n",
    "                \n",
    "                # if current sample already taken before, try one that hasn't\n",
    "                while ix in used_ix:\n",
    "                    ix = np.random.randint(X.shape[0])\n",
    "                \n",
    "                X_sto = X[ix, :].reshape(1,-1)\n",
    "                Y_sto = Y[ix, :]\n",
    "                cost, grad = self.gradient(X_sto, Y_sto, self.W)\n",
    "                self.losses.append(cost)\n",
    "                used_ix.append(ix)\n",
    "                if i % 500 == 0:\n",
    "                    print(f\"Cost at iteration {i}\", cost)\n",
    "                self.W = self.W - self.alpha * grad\n",
    "                \n",
    "                if len(used_ix) == X.shape[0]:\n",
    "                    used_ix = []\n",
    "            print(f\"Method {self.method} took: {time.time() - start_time} seconds\")\n",
    "        \n",
    "        else:\n",
    "            raise ValueError(\"Invalid method\")\n",
    "            \n",
    "        \n",
    "    \n",
    "    def gradient(self, X, Y, W):\n",
    "        m = X.shape[0]\n",
    "        h = self.h_theta(X, W)\n",
    "        cost = - np.sum(Y * np.log(h)) / m\n",
    "        error = h - Y\n",
    "        grad = self.softmax_grad(X, error)\n",
    "        return cost, grad\n",
    "    \n",
    "    def h_theta(self, X, W):\n",
    "        return self.softmax(X @ W)\n",
    "    \n",
    "    def softmax(self, theta_t_x):\n",
    "        return np.exp(theta_t_x) / np.sum(np.exp(theta_t_x), axis=1, keepdims=True)\n",
    "    \n",
    "    def softmax_grad(self, X, error):\n",
    "        return  X.T @ error\n",
    "    \n",
    "    def predict(self,X):\n",
    "        return np.argmax(self.h_theta(X, self.W), axis=1)\n",
    "    \n",
    "    def plot(self):\n",
    "        plt.plot(np.arange(len(self.losses)), self.losses, label=\"Losses\")\n",
    "        plt.title(\"Losses\")\n",
    "        plt.xlabel(\"Epochs\")\n",
    "        plt.ylabel(\"Loss\")"
   ]
  },
  {
   "cell_type": "code",
   "execution_count": 5,
   "id": "7dc09edd",
   "metadata": {},
   "outputs": [
    {
     "name": "stdout",
     "output_type": "stream",
     "text": [
      "Cost at iteration 0 1.5811019118630936\n",
      "Cost at iteration 500 0.17297760019645672\n",
      "Cost at iteration 1000 0.12814449608832887\n",
      "Cost at iteration 1500 0.11047249816375887\n",
      "Cost at iteration 2000 0.10093829170801555\n",
      "Cost at iteration 2500 0.09497066548354967\n",
      "Cost at iteration 3000 0.09089404139198558\n",
      "Cost at iteration 3500 0.0879433059260379\n",
      "Cost at iteration 4000 0.08571761321338997\n",
      "Cost at iteration 4500 0.08398607719672423\n",
      "Cost at iteration 5000 0.08260612611736162\n",
      "Cost at iteration 5500 0.08148489916099663\n",
      "Cost at iteration 6000 0.08055930456318756\n",
      "Cost at iteration 6500 0.07978498093610739\n",
      "Cost at iteration 7000 0.0791298379152904\n",
      "Cost at iteration 7500 0.07857009977068517\n",
      "Cost at iteration 8000 0.07808778758172706\n",
      "Cost at iteration 8500 0.07766906391778562\n",
      "Cost at iteration 9000 0.07730311364291977\n",
      "Cost at iteration 9500 0.07698136852438162\n",
      "Method batch took: 0.43199658393859863 seconds\n",
      "==================== Classification data =====================\n",
      "Report:                precision    recall  f1-score   support\n",
      "\n",
      "           0       1.00      1.00      1.00        15\n",
      "           1       0.88      1.00      0.94        15\n",
      "           2       1.00      0.87      0.93        15\n",
      "\n",
      "    accuracy                           0.96        45\n",
      "   macro avg       0.96      0.96      0.96        45\n",
      "weighted avg       0.96      0.96      0.96        45\n",
      "\n"
     ]
    },
    {
     "data": {
      "image/png": "[encoded data removed]",
      "text/plain": [
       "<Figure size 432x288 with 1 Axes>"
      ]
     },
     "metadata": {
      "needs_background": "light"
     },
     "output_type": "display_data"
    }
   ],
   "source": [
    "model = LogisticRegression(k, n, method=\"batch\")\n",
    "model.fit(X_train, Y_train_encoded)\n",
    "model.plot()\n",
    "print(\"==================== Classification data =====================\")\n",
    "yhat = model.predict(X_test)\n",
    "print(\"Report: \", classification_report(y_test, yhat))"
   ]
  },
  {
   "cell_type": "code",
   "execution_count": 6,
   "id": "803044b7",
   "metadata": {},
   "outputs": [
    {
     "name": "stdout",
     "output_type": "stream",
     "text": [
      "Cost at iteration 0 1.0148385751251954\n",
      "Cost at iteration 500 0.25245843789618694\n",
      "Cost at iteration 1000 0.20456885804399993\n",
      "Cost at iteration 1500 0.1791612102199089\n",
      "Cost at iteration 2000 0.16032825978282222\n",
      "Cost at iteration 2500 0.14508140979664755\n",
      "Cost at iteration 3000 0.13231939749019916\n",
      "Cost at iteration 3500 0.12145178737254272\n",
      "Cost at iteration 4000 0.11209149461450865\n",
      "Cost at iteration 4500 0.10395787528476805\n",
      "Cost at iteration 5000 0.09683686242491257\n",
      "Cost at iteration 5500 0.09056058100951998\n",
      "Cost at iteration 6000 0.08499510384364126\n",
      "Cost at iteration 6500 0.08003228524571429\n",
      "Cost at iteration 7000 0.07558395936627697\n",
      "Cost at iteration 7500 0.07157766003228243\n",
      "Cost at iteration 8000 0.06795338796140798\n",
      "Cost at iteration 8500 0.06466113010702908\n",
      "Cost at iteration 9000 0.06165893386149275\n",
      "Cost at iteration 9500 0.058911398035249675\n",
      "Method minibatch took: 0.3279993534088135 seconds\n",
      "==================== Classification data =====================\n",
      "Report:                precision    recall  f1-score   support\n",
      "\n",
      "           0       1.00      1.00      1.00        15\n",
      "           1       1.00      0.47      0.64        15\n",
      "           2       0.65      1.00      0.79        15\n",
      "\n",
      "    accuracy                           0.82        45\n",
      "   macro avg       0.88      0.82      0.81        45\n",
      "weighted avg       0.88      0.82      0.81        45\n",
      "\n"
     ]
    },
    {
     "data": {
      "image/png": "[encoded data removed]",
      "text/plain": [
       "<Figure size 432x288 with 1 Axes>"
      ]
     },
     "metadata": {
      "needs_background": "light"
     },
     "output_type": "display_data"
    }
   ],
   "source": [
    "model = LogisticRegression(k, n, method=\"minibatch\")\n",
    "#model = LogisticRegression(k, n, method=\"invalid\")\n",
    "model.fit(X_train, Y_train_encoded)\n",
    "model.plot()\n",
    "print(\"==================== Classification data =====================\")\n",
    "yhat = model.predict(X_test)\n",
    "print(\"Report: \", classification_report(y_test, yhat))"
   ]
  },
  {
   "cell_type": "code",
   "execution_count": 7,
   "id": "2522b8f9",
   "metadata": {},
   "outputs": [
    {
     "name": "stdout",
     "output_type": "stream",
     "text": [
      "Cost at iteration 0 0.7874199199358756\n",
      "Cost at iteration 500 0.8615516905089649\n",
      "Cost at iteration 1000 0.8406263999022894\n",
      "Cost at iteration 1500 0.8412065521828227\n",
      "Cost at iteration 2000 0.26636319615240733\n",
      "Cost at iteration 2500 1.0076062140575417\n",
      "Cost at iteration 3000 0.3412657790525376\n",
      "Cost at iteration 3500 0.18529739236209358\n",
      "Cost at iteration 4000 0.907130886320646\n",
      "Cost at iteration 4500 0.9143690932840675\n",
      "Cost at iteration 5000 0.21619165661989592\n",
      "Cost at iteration 5500 0.2649496455154042\n",
      "Cost at iteration 6000 0.13151642050638757\n",
      "Cost at iteration 6500 0.11771401573509266\n",
      "Cost at iteration 7000 0.09534912153238649\n",
      "Cost at iteration 7500 0.10937151074836837\n",
      "Cost at iteration 8000 0.21122621829831045\n",
      "Cost at iteration 8500 0.09546875671353613\n",
      "Cost at iteration 9000 0.3328532718512003\n",
      "Cost at iteration 9500 0.7527118749158879\n",
      "Method sto took: 0.3930497169494629 seconds\n",
      "==================== Classification data =====================\n",
      "Report:                precision    recall  f1-score   support\n",
      "\n",
      "           0       1.00      1.00      1.00        15\n",
      "           1       0.87      0.87      0.87        15\n",
      "           2       0.87      0.87      0.87        15\n",
      "\n",
      "    accuracy                           0.91        45\n",
      "   macro avg       0.91      0.91      0.91        45\n",
      "weighted avg       0.91      0.91      0.91        45\n",
      "\n"
     ]
    },
    {
     "data": {
      "image/png": "[encoded data removed]",
      "text/plain": [
       "<Figure size 432x288 with 1 Axes>"
      ]
     },
     "metadata": {
      "needs_background": "light"
     },
     "output_type": "display_data"
    }
   ],
   "source": [
    "model = LogisticRegression(k, n, method=\"sto\")\n",
    "#model = LogisticRegression(k, n, method=\"invalid\")\n",
    "model.fit(X_train, Y_train_encoded)\n",
    "model.plot()\n",
    "print(\"==================== Classification data =====================\")\n",
    "yhat = model.predict(X_test)\n",
    "print(\"Report: \", classification_report(y_test, yhat))"
   ]
  },
  {
   "cell_type": "markdown",
   "id": "d4fd0ac5",
   "metadata": {},
   "source": [
    "## 6. Discussion\n",
    "\n",
    "It seems the method leading to the lowest lost is the batch method while the highest loss is using sto. In contrast, the fastest method is minibatch, which seem to be adequate for larger datasets in the future."
   ]
  },
  {
   "cell_type": "code",
   "execution_count": null,
   "id": "99384244",
   "metadata": {},
   "outputs": [],
   "source": []
  }
 ],
 "metadata": {
  "kernelspec": {
   "display_name": "Python 3 (ipykernel)",
   "language": "python",
   "name": "python3"
  },
  "language_info": {
   "codemirror_mode": {
    "name": "ipython",
    "version": 3
   },
   "file_extension": ".py",
   "mimetype": "text/x-python",
   "name": "python",
   "nbconvert_exporter": "python",
   "pygments_lexer": "ipython3",
   "version": "3.9.2"
  }
 },
 "nbformat": 4,
 "nbformat_minor": 5
}

{
 "cells": [
  {
   "cell_type": "code",
   "execution_count": 2,
   "id": "a3e23a0c",
   "metadata": {},
   "outputs": [],
   "source": [
    "class Bank_Account:\n",
    "    def __init(self):\n",
    "        self.balance=0\n",
    "        print(\"Bank\")\n",
    "        \n",
    "    def deposit(self, amount):\n",
    "        self.balance += amount\n",
    "        print(\"\\ nAmount Deposited: \", amount)\n",
    "    \n",
    "    def withdraw(self, amount):\n",
    "        if self.balance >= amont:\n",
    "            self.balance-= amount\n",
    "            print(\"\\n You withdrew:\", amount)\n",
    "        else:\n",
    "            print(\"\\n Insufficient balance \")\n",
    "            \n",
    "        def display(self):\n",
    "            print(\"\\n Net Available Balance=\", self.balance)"
   ]
  }
 ],
 "metadata": {
  "kernelspec": {
   "display_name": "Python 3 (ipykernel)",
   "language": "python",
   "name": "python3"
  },
  "language_info": {
   "codemirror_mode": {
    "name": "ipython",
    "version": 3
   },
   "file_extension": ".py",
   "mimetype": "text/x-python",
   "name": "python",
   "nbconvert_exporter": "python",
   "pygments_lexer": "ipython3",
   "version": "3.9.2"
  }
 },
 "nbformat": 4,
 "nbformat_minor": 5
}

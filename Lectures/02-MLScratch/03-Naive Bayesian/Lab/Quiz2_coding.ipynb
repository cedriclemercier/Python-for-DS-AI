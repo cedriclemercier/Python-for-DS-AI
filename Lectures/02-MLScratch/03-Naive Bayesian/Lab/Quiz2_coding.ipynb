{
 "cells": [
  {
   "cell_type": "markdown",
   "id": "marked-orchestra",
   "metadata": {},
   "source": [
    "## Quiz 2"
   ]
  },
  {
   "cell_type": "markdown",
   "id": "liked-silence",
   "metadata": {},
   "source": [
    "1. Generate a sample of 200 points from a 2D Gaussian with mean $\\mu_1 = \\begin{bmatrix} 3 \\\\ 3 \\end{bmatrix}$ and covariance $\\Sigma_1 = \\begin{bmatrix} 4 & 0 \\\\ 0 & 4 \\end{bmatrix}$ (1 point)\n",
    "\n",
    "Hint: np.random.multivariate_normal()"
   ]
  },
  {
   "cell_type": "code",
   "execution_count": 37,
   "id": "vanilla-tuning",
   "metadata": {},
   "outputs": [],
   "source": [
    "import numpy as np\n",
    "\n",
    "# Your code here\n",
    "data_1 = np.random.multivariate_normal(mean = [3, 3], cov = [[4, 0],[0, 4]], size=200)\n",
    "X, y = data_1.T\n"
   ]
  },
  {
   "cell_type": "markdown",
   "id": "planned-metro",
   "metadata": {},
   "source": [
    "2. Generate a second sample of 200 points from a 2D Gaussian with mean $\\mu_2 = \\begin{bmatrix} 5 \\\\ 5 \\end{bmatrix}$ and covariance $\\Sigma_2 = \\begin{bmatrix} 4  &  0 \\\\ 0 & 4 \\end{bmatrix}$. (1 point)\n"
   ]
  },
  {
   "cell_type": "code",
   "execution_count": 38,
   "id": "aggregate-damages",
   "metadata": {},
   "outputs": [],
   "source": [
    "# Your code here\n",
    "x2, y2 = np.random.multivariate_normal(mean = [5, 5], cov = [[4, 0],[0, 4]], size=200).T"
   ]
  },
  {
   "cell_type": "markdown",
   "id": "entire-rapid",
   "metadata": {},
   "source": [
    "3. Assuming the first set of points is class 0 and the second set of points is class 1, plot the training set and test set in separate plots with different colors for each class below. (1 point)"
   ]
  },
  {
   "cell_type": "code",
   "execution_count": 39,
   "id": "loaded-friday",
   "metadata": {},
   "outputs": [
    {
     "data": {
      "image/png": "[encoded data removed]",
      "text/plain": [
       "<Figure size 720x360 with 2 Axes>"
      ]
     },
     "metadata": {
      "needs_background": "light"
     },
     "output_type": "display_data"
    }
   ],
   "source": [
    "# Your code here\n",
    "import matplotlib.pyplot as plt\n",
    "\n",
    "# Plot\n",
    "fig, ax = plt.subplots(1, 2, figsize=(10, 5))\n",
    "ax1 = ax[0]\n",
    "ax1.scatter(x, y, color='y')\n",
    "ax1.set_title('Data 1')\n",
    "ax1.set_xlabel('x')\n",
    "ax1.set_ylabel('y')\n",
    "\n",
    "# Plot\n",
    "ax2 = ax[1]\n",
    "ax2.scatter(x2, y2)\n",
    "ax2.set_title('Data 2')\n",
    "ax2.set_xlabel('x2')\n",
    "ax2.set_ylabel('y2')\n",
    "\n",
    "plt.show()\n"
   ]
  },
  {
   "cell_type": "markdown",
   "id": "surprising-trust",
   "metadata": {},
   "source": [
    "4. StandardScale your data and Split to training, validation and testing sets with the ratio of 70:10:20. You may use train_test_split from sklearn or from-scratch. Any of your choosing will do. (2 points)"
   ]
  },
  {
   "cell_type": "code",
   "execution_count": 36,
   "id": "perfect-ebony",
   "metadata": {},
   "outputs": [
    {
     "ename": "ValueError",
     "evalue": "Expected 2D array, got 1D array instead:\narray=[ 3.16840933  3.79294721  4.01895069  1.25620605  4.33980157  2.84442837\n  1.03583912  1.6038014   3.04231597  4.72164529  2.64986077 -0.87726921\n  6.75843319  5.03604312  4.23858371  1.0634135   1.62567619  1.05935919\n  2.43670979  1.27246182  0.82385911  3.85702633  4.68322158  4.85227932\n  2.03301656  5.54221722  3.29288456  2.81089607  6.69423738  2.93575657\n  4.82557177  5.20146745  3.85757052  2.03301224  4.95468635  2.18828551\n -2.04229406  3.55566954  5.44771087  1.86739153  1.20942959  1.49865851\n  4.67993551 -0.19352573  0.63169424  6.99192334  0.80720055  2.0524861\n  2.78835998  3.93138033  3.74906184  2.89299748  1.47402168  4.6688131\n  2.87888727  3.20897569 -1.12409434  6.2332011   4.57534404  5.70585318\n  1.92813824  0.29705068  5.36578808  3.84659474  3.13016343  2.36662196\n  2.71928312  6.5404463   2.66857778  3.24993118  4.22936696  4.18994134\n  4.70657928  3.73997006  4.34116662  0.62465593  1.74119369  5.36040022\n  3.16935249  3.21855586  3.65784907  2.05330695  1.9031109   0.83735583\n  3.83761834  2.23683689  3.8024019   3.90676057  5.19490934  3.77065576\n  1.84850216  4.62135309 -0.05291318  3.69632173  0.02257156  4.5198452\n  0.91080498  1.57512534  2.25998511  2.69224483  2.98413087  2.59684111\n  5.35652826  2.61250795  2.95222711  4.33902319  7.18472039  2.85669623\n  2.1061177   2.87550824  0.26374899  3.83441782  1.68778914  6.35314662\n  2.7315619   3.56834581  0.07983831  5.20056768  5.80877123  5.80463862\n  3.60332934  0.95531832  0.81461072  0.8358429   1.58447627  3.21423103\n  6.91004756  5.23878544  6.36364724  4.97791163  4.03909164  1.43362562\n  2.09004783  4.74097617  3.06452019  2.8080872   2.03415195  4.36984314\n  0.67234201  5.25240624  3.79416649  3.93758666  1.38401085  4.1425772\n -3.14915647  2.42354085  4.077179    2.58988627  0.45617725  6.6652275\n  1.72649534  2.34288829  1.13328037  0.44141595  5.90284738  0.61927661\n  6.00229498  2.00446828  2.71214499  3.86811303 -0.24216429 -0.44193137\n  1.80698783  2.72342127  2.47936021  2.29794885  1.73956774  2.46088935\n  8.1432479   5.66845473  1.47713548  2.33342846  3.05971177  1.32891963\n  3.64830862  3.43850214  3.29899538  2.12104396  2.153594    4.36781541\n  0.76868397  5.17969178  1.78320804  2.43686787  2.77420433  2.00573743\n  4.62717058  2.7316744   3.12645635  1.15281082  2.78488927  4.58704997\n  0.72566208  2.10560113  5.93306524  0.86868963  2.90877637  2.48817488\n  3.17865166  2.71562459].\nReshape your data either using array.reshape(-1, 1) if your data has a single feature or array.reshape(1, -1) if it contains a single sample.",
     "output_type": "error",
     "traceback": [
      "\u001b[1;31m---------------------------------------------------------------------------\u001b[0m",
      "\u001b[1;31mValueError\u001b[0m                                Traceback (most recent call last)",
      "\u001b[1;32mC:\\Users\\Public\\Documents\\Wondershare\\CreatorTemp/ipykernel_57856/116216383.py\u001b[0m in \u001b[0;36m<module>\u001b[1;34m\u001b[0m\n\u001b[0;32m      3\u001b[0m \u001b[1;33m\u001b[0m\u001b[0m\n\u001b[0;32m      4\u001b[0m \u001b[0mscaler\u001b[0m \u001b[1;33m=\u001b[0m \u001b[0mStandardScaler\u001b[0m\u001b[1;33m(\u001b[0m\u001b[1;33m)\u001b[0m\u001b[1;33m\u001b[0m\u001b[1;33m\u001b[0m\u001b[0m\n\u001b[1;32m----> 5\u001b[1;33m \u001b[0mX\u001b[0m \u001b[1;33m=\u001b[0m \u001b[0mscaler\u001b[0m\u001b[1;33m.\u001b[0m\u001b[0mfit_transform\u001b[0m\u001b[1;33m(\u001b[0m\u001b[0mx\u001b[0m\u001b[1;33m)\u001b[0m\u001b[1;33m\u001b[0m\u001b[1;33m\u001b[0m\u001b[0m\n\u001b[0m\u001b[0;32m      6\u001b[0m \u001b[1;33m\u001b[0m\u001b[0m\n\u001b[0;32m      7\u001b[0m \u001b[0mX_train\u001b[0m\u001b[1;33m,\u001b[0m \u001b[0mX_test\u001b[0m\u001b[1;33m,\u001b[0m \u001b[0my_train\u001b[0m\u001b[1;33m,\u001b[0m \u001b[0my_test\u001b[0m \u001b[1;33m=\u001b[0m \u001b[0mtrain_test_split\u001b[0m\u001b[1;33m(\u001b[0m\u001b[0mX\u001b[0m\u001b[1;33m,\u001b[0m \u001b[0my\u001b[0m\u001b[1;33m,\u001b[0m \u001b[0mtest_size\u001b[0m\u001b[1;33m=\u001b[0m\u001b[1;36m0.2\u001b[0m\u001b[1;33m,\u001b[0m \u001b[0mtrain_size\u001b[0m\u001b[1;33m=\u001b[0m\u001b[1;36m0.7\u001b[0m\u001b[1;33m)\u001b[0m\u001b[1;33m\u001b[0m\u001b[1;33m\u001b[0m\u001b[0m\n",
      "\u001b[1;32mc:\\users\\cedri\\appdata\\local\\programs\\python\\python39\\lib\\site-packages\\sklearn\\base.py\u001b[0m in \u001b[0;36mfit_transform\u001b[1;34m(self, X, y, **fit_params)\u001b[0m\n\u001b[0;32m    697\u001b[0m         \u001b[1;32mif\u001b[0m \u001b[0my\u001b[0m \u001b[1;32mis\u001b[0m \u001b[1;32mNone\u001b[0m\u001b[1;33m:\u001b[0m\u001b[1;33m\u001b[0m\u001b[1;33m\u001b[0m\u001b[0m\n\u001b[0;32m    698\u001b[0m             \u001b[1;31m# fit method of arity 1 (unsupervised transformation)\u001b[0m\u001b[1;33m\u001b[0m\u001b[1;33m\u001b[0m\u001b[1;33m\u001b[0m\u001b[0m\n\u001b[1;32m--> 699\u001b[1;33m             \u001b[1;32mreturn\u001b[0m \u001b[0mself\u001b[0m\u001b[1;33m.\u001b[0m\u001b[0mfit\u001b[0m\u001b[1;33m(\u001b[0m\u001b[0mX\u001b[0m\u001b[1;33m,\u001b[0m \u001b[1;33m**\u001b[0m\u001b[0mfit_params\u001b[0m\u001b[1;33m)\u001b[0m\u001b[1;33m.\u001b[0m\u001b[0mtransform\u001b[0m\u001b[1;33m(\u001b[0m\u001b[0mX\u001b[0m\u001b[1;33m)\u001b[0m\u001b[1;33m\u001b[0m\u001b[1;33m\u001b[0m\u001b[0m\n\u001b[0m\u001b[0;32m    700\u001b[0m         \u001b[1;32melse\u001b[0m\u001b[1;33m:\u001b[0m\u001b[1;33m\u001b[0m\u001b[1;33m\u001b[0m\u001b[0m\n\u001b[0;32m    701\u001b[0m             \u001b[1;31m# fit method of arity 2 (supervised transformation)\u001b[0m\u001b[1;33m\u001b[0m\u001b[1;33m\u001b[0m\u001b[1;33m\u001b[0m\u001b[0m\n",
      "\u001b[1;32mc:\\users\\cedri\\appdata\\local\\programs\\python\\python39\\lib\\site-packages\\sklearn\\preprocessing\\_data.py\u001b[0m in \u001b[0;36mfit\u001b[1;34m(self, X, y, sample_weight)\u001b[0m\n\u001b[0;32m    728\u001b[0m         \u001b[1;31m# Reset internal state before fitting\u001b[0m\u001b[1;33m\u001b[0m\u001b[1;33m\u001b[0m\u001b[1;33m\u001b[0m\u001b[0m\n\u001b[0;32m    729\u001b[0m         \u001b[0mself\u001b[0m\u001b[1;33m.\u001b[0m\u001b[0m_reset\u001b[0m\u001b[1;33m(\u001b[0m\u001b[1;33m)\u001b[0m\u001b[1;33m\u001b[0m\u001b[1;33m\u001b[0m\u001b[0m\n\u001b[1;32m--> 730\u001b[1;33m         \u001b[1;32mreturn\u001b[0m \u001b[0mself\u001b[0m\u001b[1;33m.\u001b[0m\u001b[0mpartial_fit\u001b[0m\u001b[1;33m(\u001b[0m\u001b[0mX\u001b[0m\u001b[1;33m,\u001b[0m \u001b[0my\u001b[0m\u001b[1;33m,\u001b[0m \u001b[0msample_weight\u001b[0m\u001b[1;33m)\u001b[0m\u001b[1;33m\u001b[0m\u001b[1;33m\u001b[0m\u001b[0m\n\u001b[0m\u001b[0;32m    731\u001b[0m \u001b[1;33m\u001b[0m\u001b[0m\n\u001b[0;32m    732\u001b[0m     \u001b[1;32mdef\u001b[0m \u001b[0mpartial_fit\u001b[0m\u001b[1;33m(\u001b[0m\u001b[0mself\u001b[0m\u001b[1;33m,\u001b[0m \u001b[0mX\u001b[0m\u001b[1;33m,\u001b[0m \u001b[0my\u001b[0m\u001b[1;33m=\u001b[0m\u001b[1;32mNone\u001b[0m\u001b[1;33m,\u001b[0m \u001b[0msample_weight\u001b[0m\u001b[1;33m=\u001b[0m\u001b[1;32mNone\u001b[0m\u001b[1;33m)\u001b[0m\u001b[1;33m:\u001b[0m\u001b[1;33m\u001b[0m\u001b[1;33m\u001b[0m\u001b[0m\n",
      "\u001b[1;32mc:\\users\\cedri\\appdata\\local\\programs\\python\\python39\\lib\\site-packages\\sklearn\\preprocessing\\_data.py\u001b[0m in \u001b[0;36mpartial_fit\u001b[1;34m(self, X, y, sample_weight)\u001b[0m\n\u001b[0;32m    764\u001b[0m         \"\"\"\n\u001b[0;32m    765\u001b[0m         \u001b[0mfirst_call\u001b[0m \u001b[1;33m=\u001b[0m \u001b[1;32mnot\u001b[0m \u001b[0mhasattr\u001b[0m\u001b[1;33m(\u001b[0m\u001b[0mself\u001b[0m\u001b[1;33m,\u001b[0m \u001b[1;34m\"n_samples_seen_\"\u001b[0m\u001b[1;33m)\u001b[0m\u001b[1;33m\u001b[0m\u001b[1;33m\u001b[0m\u001b[0m\n\u001b[1;32m--> 766\u001b[1;33m         X = self._validate_data(X, accept_sparse=('csr', 'csc'),\n\u001b[0m\u001b[0;32m    767\u001b[0m                                 \u001b[0mestimator\u001b[0m\u001b[1;33m=\u001b[0m\u001b[0mself\u001b[0m\u001b[1;33m,\u001b[0m \u001b[0mdtype\u001b[0m\u001b[1;33m=\u001b[0m\u001b[0mFLOAT_DTYPES\u001b[0m\u001b[1;33m,\u001b[0m\u001b[1;33m\u001b[0m\u001b[1;33m\u001b[0m\u001b[0m\n\u001b[0;32m    768\u001b[0m                                 force_all_finite='allow-nan', reset=first_call)\n",
      "\u001b[1;32mc:\\users\\cedri\\appdata\\local\\programs\\python\\python39\\lib\\site-packages\\sklearn\\base.py\u001b[0m in \u001b[0;36m_validate_data\u001b[1;34m(self, X, y, reset, validate_separately, **check_params)\u001b[0m\n\u001b[0;32m    419\u001b[0m             \u001b[0mout\u001b[0m \u001b[1;33m=\u001b[0m \u001b[0mX\u001b[0m\u001b[1;33m\u001b[0m\u001b[1;33m\u001b[0m\u001b[0m\n\u001b[0;32m    420\u001b[0m         \u001b[1;32melif\u001b[0m \u001b[0misinstance\u001b[0m\u001b[1;33m(\u001b[0m\u001b[0my\u001b[0m\u001b[1;33m,\u001b[0m \u001b[0mstr\u001b[0m\u001b[1;33m)\u001b[0m \u001b[1;32mand\u001b[0m \u001b[0my\u001b[0m \u001b[1;33m==\u001b[0m \u001b[1;34m'no_validation'\u001b[0m\u001b[1;33m:\u001b[0m\u001b[1;33m\u001b[0m\u001b[1;33m\u001b[0m\u001b[0m\n\u001b[1;32m--> 421\u001b[1;33m             \u001b[0mX\u001b[0m \u001b[1;33m=\u001b[0m \u001b[0mcheck_array\u001b[0m\u001b[1;33m(\u001b[0m\u001b[0mX\u001b[0m\u001b[1;33m,\u001b[0m \u001b[1;33m**\u001b[0m\u001b[0mcheck_params\u001b[0m\u001b[1;33m)\u001b[0m\u001b[1;33m\u001b[0m\u001b[1;33m\u001b[0m\u001b[0m\n\u001b[0m\u001b[0;32m    422\u001b[0m             \u001b[0mout\u001b[0m \u001b[1;33m=\u001b[0m \u001b[0mX\u001b[0m\u001b[1;33m\u001b[0m\u001b[1;33m\u001b[0m\u001b[0m\n\u001b[0;32m    423\u001b[0m         \u001b[1;32melse\u001b[0m\u001b[1;33m:\u001b[0m\u001b[1;33m\u001b[0m\u001b[1;33m\u001b[0m\u001b[0m\n",
      "\u001b[1;32mc:\\users\\cedri\\appdata\\local\\programs\\python\\python39\\lib\\site-packages\\sklearn\\utils\\validation.py\u001b[0m in \u001b[0;36minner_f\u001b[1;34m(*args, **kwargs)\u001b[0m\n\u001b[0;32m     61\u001b[0m             \u001b[0mextra_args\u001b[0m \u001b[1;33m=\u001b[0m \u001b[0mlen\u001b[0m\u001b[1;33m(\u001b[0m\u001b[0margs\u001b[0m\u001b[1;33m)\u001b[0m \u001b[1;33m-\u001b[0m \u001b[0mlen\u001b[0m\u001b[1;33m(\u001b[0m\u001b[0mall_args\u001b[0m\u001b[1;33m)\u001b[0m\u001b[1;33m\u001b[0m\u001b[1;33m\u001b[0m\u001b[0m\n\u001b[0;32m     62\u001b[0m             \u001b[1;32mif\u001b[0m \u001b[0mextra_args\u001b[0m \u001b[1;33m<=\u001b[0m \u001b[1;36m0\u001b[0m\u001b[1;33m:\u001b[0m\u001b[1;33m\u001b[0m\u001b[1;33m\u001b[0m\u001b[0m\n\u001b[1;32m---> 63\u001b[1;33m                 \u001b[1;32mreturn\u001b[0m \u001b[0mf\u001b[0m\u001b[1;33m(\u001b[0m\u001b[1;33m*\u001b[0m\u001b[0margs\u001b[0m\u001b[1;33m,\u001b[0m \u001b[1;33m**\u001b[0m\u001b[0mkwargs\u001b[0m\u001b[1;33m)\u001b[0m\u001b[1;33m\u001b[0m\u001b[1;33m\u001b[0m\u001b[0m\n\u001b[0m\u001b[0;32m     64\u001b[0m \u001b[1;33m\u001b[0m\u001b[0m\n\u001b[0;32m     65\u001b[0m             \u001b[1;31m# extra_args > 0\u001b[0m\u001b[1;33m\u001b[0m\u001b[1;33m\u001b[0m\u001b[1;33m\u001b[0m\u001b[0m\n",
      "\u001b[1;32mc:\\users\\cedri\\appdata\\local\\programs\\python\\python39\\lib\\site-packages\\sklearn\\utils\\validation.py\u001b[0m in \u001b[0;36mcheck_array\u001b[1;34m(array, accept_sparse, accept_large_sparse, dtype, order, copy, force_all_finite, ensure_2d, allow_nd, ensure_min_samples, ensure_min_features, estimator)\u001b[0m\n\u001b[0;32m    692\u001b[0m             \u001b[1;31m# If input is 1D raise error\u001b[0m\u001b[1;33m\u001b[0m\u001b[1;33m\u001b[0m\u001b[1;33m\u001b[0m\u001b[0m\n\u001b[0;32m    693\u001b[0m             \u001b[1;32mif\u001b[0m \u001b[0marray\u001b[0m\u001b[1;33m.\u001b[0m\u001b[0mndim\u001b[0m \u001b[1;33m==\u001b[0m \u001b[1;36m1\u001b[0m\u001b[1;33m:\u001b[0m\u001b[1;33m\u001b[0m\u001b[1;33m\u001b[0m\u001b[0m\n\u001b[1;32m--> 694\u001b[1;33m                 raise ValueError(\n\u001b[0m\u001b[0;32m    695\u001b[0m                     \u001b[1;34m\"Expected 2D array, got 1D array instead:\\narray={}.\\n\"\u001b[0m\u001b[1;33m\u001b[0m\u001b[1;33m\u001b[0m\u001b[0m\n\u001b[0;32m    696\u001b[0m                     \u001b[1;34m\"Reshape your data either using array.reshape(-1, 1) if \"\u001b[0m\u001b[1;33m\u001b[0m\u001b[1;33m\u001b[0m\u001b[0m\n",
      "\u001b[1;31mValueError\u001b[0m: Expected 2D array, got 1D array instead:\narray=[ 3.16840933  3.79294721  4.01895069  1.25620605  4.33980157  2.84442837\n  1.03583912  1.6038014   3.04231597  4.72164529  2.64986077 -0.87726921\n  6.75843319  5.03604312  4.23858371  1.0634135   1.62567619  1.05935919\n  2.43670979  1.27246182  0.82385911  3.85702633  4.68322158  4.85227932\n  2.03301656  5.54221722  3.29288456  2.81089607  6.69423738  2.93575657\n  4.82557177  5.20146745  3.85757052  2.03301224  4.95468635  2.18828551\n -2.04229406  3.55566954  5.44771087  1.86739153  1.20942959  1.49865851\n  4.67993551 -0.19352573  0.63169424  6.99192334  0.80720055  2.0524861\n  2.78835998  3.93138033  3.74906184  2.89299748  1.47402168  4.6688131\n  2.87888727  3.20897569 -1.12409434  6.2332011   4.57534404  5.70585318\n  1.92813824  0.29705068  5.36578808  3.84659474  3.13016343  2.36662196\n  2.71928312  6.5404463   2.66857778  3.24993118  4.22936696  4.18994134\n  4.70657928  3.73997006  4.34116662  0.62465593  1.74119369  5.36040022\n  3.16935249  3.21855586  3.65784907  2.05330695  1.9031109   0.83735583\n  3.83761834  2.23683689  3.8024019   3.90676057  5.19490934  3.77065576\n  1.84850216  4.62135309 -0.05291318  3.69632173  0.02257156  4.5198452\n  0.91080498  1.57512534  2.25998511  2.69224483  2.98413087  2.59684111\n  5.35652826  2.61250795  2.95222711  4.33902319  7.18472039  2.85669623\n  2.1061177   2.87550824  0.26374899  3.83441782  1.68778914  6.35314662\n  2.7315619   3.56834581  0.07983831  5.20056768  5.80877123  5.80463862\n  3.60332934  0.95531832  0.81461072  0.8358429   1.58447627  3.21423103\n  6.91004756  5.23878544  6.36364724  4.97791163  4.03909164  1.43362562\n  2.09004783  4.74097617  3.06452019  2.8080872   2.03415195  4.36984314\n  0.67234201  5.25240624  3.79416649  3.93758666  1.38401085  4.1425772\n -3.14915647  2.42354085  4.077179    2.58988627  0.45617725  6.6652275\n  1.72649534  2.34288829  1.13328037  0.44141595  5.90284738  0.61927661\n  6.00229498  2.00446828  2.71214499  3.86811303 -0.24216429 -0.44193137\n  1.80698783  2.72342127  2.47936021  2.29794885  1.73956774  2.46088935\n  8.1432479   5.66845473  1.47713548  2.33342846  3.05971177  1.32891963\n  3.64830862  3.43850214  3.29899538  2.12104396  2.153594    4.36781541\n  0.76868397  5.17969178  1.78320804  2.43686787  2.77420433  2.00573743\n  4.62717058  2.7316744   3.12645635  1.15281082  2.78488927  4.58704997\n  0.72566208  2.10560113  5.93306524  0.86868963  2.90877637  2.48817488\n  3.17865166  2.71562459].\nReshape your data either using array.reshape(-1, 1) if your data has a single feature or array.reshape(1, -1) if it contains a single sample."
     ]
    }
   ],
   "source": [
    "from sklearn.model_selection import train_test_split\n",
    "from sklearn.preprocessing import StandardScaler\n",
    "\n",
    "scaler = StandardScaler()\n",
    "X = scaler.fit_transform(x)\n",
    "\n",
    "X_train, X_test, y_train, y_test = train_test_split(X, y, test_size=0.2, train_size=0.7)\n",
    "\n"
   ]
  },
  {
   "cell_type": "markdown",
   "id": "chemical-syndication",
   "metadata": {},
   "source": [
    "5. Perform a classification using logistic regression using LogisticRegression class you have written (hopefully you submitted the assignments). This should be **stochastically** trained. Make sure to plot your training loss during the training. (2 points)"
   ]
  },
  {
   "cell_type": "code",
   "execution_count": 5,
   "id": "suspected-chicago",
   "metadata": {},
   "outputs": [],
   "source": [
    "# Your code here\n"
   ]
  },
  {
   "cell_type": "markdown",
   "id": "linear-princeton",
   "metadata": {},
   "source": [
    "6. Evalutate your model using your **from-scratch classification reports**. (1 point)"
   ]
  },
  {
   "cell_type": "code",
   "execution_count": 6,
   "id": "honest-plant",
   "metadata": {},
   "outputs": [],
   "source": [
    "# Your code here\n"
   ]
  },
  {
   "cell_type": "markdown",
   "id": "separate-mistake",
   "metadata": {},
   "source": [
    "7. Now, perform GNB using sklearn and use **classification_reports from sklearn** to evaluate your model. (1 point)"
   ]
  },
  {
   "cell_type": "code",
   "execution_count": 7,
   "id": "close-airline",
   "metadata": {},
   "outputs": [],
   "source": [
    "# Your code here\n"
   ]
  },
  {
   "cell_type": "markdown",
   "id": "periodic-memorabilia",
   "metadata": {},
   "source": [
    "8. In Q4, you were asked to set aside some data as your validation set. Notice that we have not used it at all. If we were to use it, how would you go about this? (1 point)"
   ]
  },
  {
   "cell_type": "code",
   "execution_count": null,
   "id": "wrong-sharing",
   "metadata": {},
   "outputs": [],
   "source": [
    "# Your answer here"
   ]
  },
  {
   "cell_type": "markdown",
   "id": "streaming-customs",
   "metadata": {},
   "source": [
    "9. **Discuss** your results (DISCUSS NOT REPORT). (2 points)\n",
    "\n",
    "Examples: which one is better, why? and why not?. The nature of data? which model is more suitable? How to improve your results? "
   ]
  },
  {
   "cell_type": "code",
   "execution_count": 8,
   "id": "unlike-tsunami",
   "metadata": {},
   "outputs": [],
   "source": [
    "# Your DISCUSSION here"
   ]
  }
 ],
 "metadata": {
  "kernelspec": {
   "display_name": "Python 3 (ipykernel)",
   "language": "python",
   "name": "python3"
  },
  "language_info": {
   "codemirror_mode": {
    "name": "ipython",
    "version": 3
   },
   "file_extension": ".py",
   "mimetype": "text/x-python",
   "name": "python",
   "nbconvert_exporter": "python",
   "pygments_lexer": "ipython3",
   "version": "3.9.2"
  }
 },
 "nbformat": 4,
 "nbformat_minor": 5
}
